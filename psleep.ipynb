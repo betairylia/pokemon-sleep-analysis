{
 "cells": [
  {
   "cell_type": "code",
   "execution_count": 12,
   "metadata": {},
   "outputs": [],
   "source": [
    "interval_str =\\\n",
    "'''\n",
    "708.06 \n",
    "1037.76 \n",
    "1114.81 \n",
    "96.26 \n",
    "862.84 \n",
    "1131.13 \n",
    "1081.99 \n",
    "1295.76 \n",
    "1847.96 \n",
    "98.35 \n",
    "1388.14\n",
    "'''\n",
    "\n",
    "interval_rep_str =\\\n",
    "'''\n",
    "2\n",
    "2\n",
    "2\n",
    "1\n",
    "6\n",
    "4\n",
    "4\n",
    "1\n",
    "1\n",
    "1\n",
    "1\n",
    "'''"
   ]
  },
  {
   "cell_type": "code",
   "execution_count": 13,
   "metadata": {},
   "outputs": [],
   "source": [
    "intervals = [float(s.strip()) for s in interval_str.split('\\n') if s.strip() != '']\n",
    "interval_rep = [int(s.strip()) for s in interval_rep_str.split('\\n') if s.strip() != '']"
   ]
  },
  {
   "cell_type": "code",
   "execution_count": 16,
   "metadata": {},
   "outputs": [
    {
     "name": "stdout",
     "output_type": "stream",
     "text": [
      "[708.06, 708.06, 1037.76, 1037.76, 1114.81, 1114.81, 96.26, 862.84, 862.84, 862.84, 862.84, 862.84, 862.84, 1131.13, 1131.13, 1131.13, 1131.13, 1081.99, 1081.99, 1081.99, 1081.99, 1295.76, 1847.96, 98.35, 1388.14]\n"
     ]
    },
    {
     "data": {
      "image/png": "[encoded data removed]",
      "text/plain": [
       "<Figure size 640x480 with 1 Axes>"
      ]
     },
     "metadata": {},
     "output_type": "display_data"
    }
   ],
   "source": [
    "from matplotlib import pyplot as plt\n",
    "import numpy as np\n",
    "\n",
    "intervals_expand = []\n",
    "for i in range(len(intervals)):\n",
    "    for j in range(interval_rep[i]):\n",
    "        intervals_expand.append(intervals[i])\n",
    "\n",
    "print(intervals_expand)\n",
    "plt.hist(intervals_expand, bins=10)\n",
    "plt.show()"
   ]
  },
  {
   "cell_type": "code",
   "execution_count": null,
   "metadata": {},
   "outputs": [],
   "source": [
    "# Tetra's data @ Aug-07\n",
    "\n"
   ]
  }
 ],
 "metadata": {
  "kernelspec": {
   "display_name": "base",
   "language": "python",
   "name": "python3"
  },
  "language_info": {
   "codemirror_mode": {
    "name": "ipython",
    "version": 3
   },
   "file_extension": ".py",
   "mimetype": "text/x-python",
   "name": "python",
   "nbconvert_exporter": "python",
   "pygments_lexer": "ipython3",
   "version": "3.10.9"
  },
  "orig_nbformat": 4
 },
 "nbformat": 4,
 "nbformat_minor": 2
}
